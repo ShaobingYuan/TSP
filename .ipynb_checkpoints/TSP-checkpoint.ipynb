{
 "cells": [
  {
   "cell_type": "markdown",
   "id": "6fd5674b-fb3e-4d14-9342-8887378a3b17",
   "metadata": {},
   "source": [
    "First, we set up a function that generates $N$ cities randomly in a $1\\times1$ square box and calculates the distance between each two of them. The input is the number of cities $N$, and the output is an $N\\times N$ matrix with its $i,j$ element being the distance between city $i$ and $j$."
   ]
  },
  {
   "cell_type": "code",
   "execution_count": 17,
   "id": "e5848794-149f-4859-82fa-04ecbe7abd93",
   "metadata": {},
   "outputs": [],
   "source": [
    "import numpy as np\n",
    "import random\n",
    "\n",
    "def generate_cities_and_distances(N):\n",
    "    # Generate N cities randomly in a 1x1 square box\n",
    "    cities = np.random.rand(N, 2)  # Each city is represented by its (x, y) coordinates\n",
    "    \n",
    "    # Calculate the distances between each pair of cities\n",
    "    distances = np.zeros((N, N))  # Initialize an N x N matrix for distances\n",
    "    for i in range(N):\n",
    "        for j in range(N):\n",
    "            distances[i][j] = np.sqrt(np.sum((cities[i] - cities[j]) ** 2))  # Calculate Euclidean distance\n",
    "            \n",
    "    return distances"
   ]
  },
  {
   "cell_type": "markdown",
   "id": "8ee98331-99e2-4cd2-9d34-c27a434d3879",
   "metadata": {},
   "source": [
    "The next function generates an initial guess for the traveling salesman's shortest route. Starting from city $i=0$, find its nearest neighbour $j$; then find $j$'s nearest neighbour except for $i$, let's say it's $k$; then find $k$'s nearest neighbour $l$ except for $i$ and $j$; keep doing this until each of the $N$ cities has appeared once. This function takes the distance matrix as input and gives an $N$-element sequence recording the route as output."
   ]
  },
  {
   "cell_type": "code",
   "execution_count": 2,
   "id": "e2526cb4-5deb-49fa-ae66-4959977d6e99",
   "metadata": {},
   "outputs": [],
   "source": [
    "def generate_initial_route(distances):\n",
    "    N = len(distances)  # Number of cities\n",
    "    route = [0]  # Start from city 0\n",
    "    visited = set([0])  # Keep track of visited cities\n",
    "    \n",
    "    while len(route) < N:\n",
    "        # Find the nearest neighbour of the last city in the route that hasn't been visited yet\n",
    "        min_dist = float('inf')  # Initialize to a large value\n",
    "        next_city = -1  # Index of the next city to add to the route\n",
    "        for j in range(N):\n",
    "            if j not in visited:  # Ignore already visited cities\n",
    "                dist = distances[route[-1]][j]  # Distance from the last city in the route to city j\n",
    "                if dist < min_dist:  # Update the minimum distance and next city\n",
    "                    min_dist = dist\n",
    "                    next_city = j\n",
    "        route.append(next_city)  # Add the next city to the route\n",
    "        visited.add(next_city)  # Mark the city as visited\n",
    "    \n",
    "    return route  # The initial route as a sequence of city indices"
   ]
  },
  {
   "cell_type": "markdown",
   "id": "621f9747-983c-44eb-9c41-e85135629b51",
   "metadata": {},
   "source": [
    "The minimal change of a route is a swap between two city routes (route[$(i-1)$%$N$],route[$i$]) and (route[$j$],route[$(j+1)$%$N$]), $i < j < N$, which trades the original city routes for (route[$(i-1)$%$N$],route[$j$]) and (route[$i$],route[$(j+1)$%$N$]), which is to reverse the city sequence from route[$i$] to route[$j$]. The swap makes sense only when the length of the reversed sequence is no longer than $N-2$, i.e. $j - i + 1 <= N - 2$ or $j - i < N - 2$. Now let's define the swap function with their input being a route and the swap indices $i$ and $j$ and their output being the swapped route or the warning information of illegal swap indices $i$ and $j$."
   ]
  },
  {
   "cell_type": "code",
   "execution_count": 5,
   "id": "351726f9-025f-48d2-b31b-52ec07849cc3",
   "metadata": {},
   "outputs": [],
   "source": [
    "def swap_route_segment(route, i, j):\n",
    "    N = len(route)  # Number of cities in the route\n",
    "    \n",
    "    # Check if the swap is within bounds and makes sense\n",
    "    if i < j and j - i + 1 <= N - 2:  # Condition for valid swap\n",
    "        # Perform the swap by reversing the sequence from route[i] to route[j]\n",
    "        route[i:j+1] = reversed(route[i:j+1])  # Swap the segment\n",
    "        return route  # Return the swapped route\n",
    "    else:\n",
    "        return f\"Warning: Illegal swap indices {i} and {j}. Swap not performed.\""
   ]
  },
  {
   "cell_type": "markdown",
   "id": "99bed0c9-74ff-47cc-8227-d34c364d62a6",
   "metadata": {},
   "source": [
    "Now we want a function that decides whether or not to swap. Define the energy $E$ as the length difference between the swapped and unswapped route, i.e. $E$ = distances[route[$(i-1)$%$N$]][route[$j$]] + distances[route[$i$]][route[$(j+1)$%$N$]] - distances[route[$(i-1)$%$N$]][route[$i$]] - distances[route[$j$]][route[$(j+1)$%$N$]]. If $E < 0$, we always want to do the swap, and the function should return True. If $E > 0$, we swap with a probability of $e^{-E/T}$, where $T$ is a temperature from the input. This function takes the distances matrix, the swap indices $i$ and $j$, and the temperature $T$ as input, and returns True or False, i.e. whether or not to swap."
   ]
  },
  {
   "cell_type": "code",
   "execution_count": null,
   "id": "213c87f8-511c-4a85-880a-0074f36884f2",
   "metadata": {},
   "outputs": [],
   "source": [
    "def should_swap(distances, route, i, j, T):\n",
    "    N = len(route)  # Number of cities in the route\n",
    "    \n",
    "    # Calculate the energy difference between the swapped and unswapped route\n",
    "    E = distances[route[(i-1) % N][route[j]] + distances[route[i]][route[(j+1) % N]] - distances[route[(i-1) % N][route[i]] - distances[route[j]][route[(j+1) % N]]\n",
    "    \n",
    "    # If E is negative, always accept the swap\n",
    "    if E < 0:\n",
    "        return True\n",
    "    \n",
    "    # If E is positive, accept the swap with probability e^{-E/T}\n",
    "    if np.exp(- E / T) > np.random.rand():  # Using NumPy's random number generator for speed and efficiency\n",
    "        return True\n",
    "    else:\n",
    "        return False"
   ]
  }
 ],
 "metadata": {
  "kernelspec": {
   "display_name": "Python 3 (ipykernel)",
   "language": "python",
   "name": "python3"
  },
  "language_info": {
   "codemirror_mode": {
    "name": "ipython",
    "version": 3
   },
   "file_extension": ".py",
   "mimetype": "text/x-python",
   "name": "python",
   "nbconvert_exporter": "python",
   "pygments_lexer": "ipython3",
   "version": "3.12.4"
  }
 },
 "nbformat": 4,
 "nbformat_minor": 5
}
