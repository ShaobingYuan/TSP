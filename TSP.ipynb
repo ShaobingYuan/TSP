{
 "cells": [
  {
   "cell_type": "markdown",
   "id": "6fd5674b-fb3e-4d14-9342-8887378a3b17",
   "metadata": {},
   "source": [
    "First, we set up a function that generates $N$ cities randomly in a $1\\times1$ square box and one that calculates the distance between each two of them. The input is the number of cities $N$ and the city coordinates, and the output is city coordinates and an $N\\times N$ matrix with its $i,j$ element being the distance between city $i$ and $j$ respectively."
   ]
  },
  {
   "cell_type": "code",
   "execution_count": 17,
   "id": "e5848794-149f-4859-82fa-04ecbe7abd93",
   "metadata": {},
   "outputs": [],
   "source": [
    "import numpy as np\n",
    "import random\n",
    "\n",
    "def generate_cities(N):\n",
    "    # Generate N cities randomly in a 1x1 square box\n",
    "    cities = np.random.rand(N, 2)  # Each city is represented by its (x, y) coordinates\n",
    "    return cities\n",
    "\n",
    "def calculate_distances(cities, N):\n",
    "    distances = np.zeros((N, N))  # Initialize an N x N matrix for distances\n",
    "    \n",
    "    for i in range(N):\n",
    "        for j in range(N):\n",
    "            distances[i][j] = np.sqrt(np.sum((cities[i] - cities[j]) ** 2))  # Calculate Euclidean distance\n",
    "    \n",
    "    return distances"
   ]
  },
  {
   "cell_type": "markdown",
   "id": "8ee98331-99e2-4cd2-9d34-c27a434d3879",
   "metadata": {},
   "source": [
    "The next function generates an initial guess for the traveling salesman's shortest route. Starting from city $i=0$, find its nearest neighbour $j$; then find $j$'s nearest neighbour except for $i$, let's say it's $k$; then find $k$'s nearest neighbour $l$ except for $i$ and $j$; keep doing this until each of the $N$ cities has appeared once. This function takes the distance matrix and the city number as input and gives an $N$-element sequence recording the route as output."
   ]
  },
  {
   "cell_type": "code",
   "execution_count": 2,
   "id": "e2526cb4-5deb-49fa-ae66-4959977d6e99",
   "metadata": {},
   "outputs": [],
   "source": [
    "def generate_initial_route(distances, N):\n",
    "    route = [0]  # Start from city 0\n",
    "    visited = set([0])  # Keep track of visited cities\n",
    "    \n",
    "    while len(route) < N:\n",
    "        # Find the nearest neighbour of the last city in the route that hasn't been visited yet\n",
    "        min_dist = float('inf')  # Initialize to a large value\n",
    "        next_city = -1  # Index of the next city to add to the route\n",
    "        for j in range(N):\n",
    "            if j not in visited:  # Ignore already visited cities\n",
    "                dist = distances[route[-1]][j]  # Distance from the last city in the route to city j\n",
    "                if dist < min_dist:  # Update the minimum distance and next city\n",
    "                    min_dist = dist\n",
    "                    next_city = j\n",
    "        route.append(next_city)  # Add the next city to the route\n",
    "        visited.add(next_city)  # Mark the city as visited\n",
    "    \n",
    "    return route  # The initial route as a sequence of city indices"
   ]
  },
  {
   "cell_type": "markdown",
   "id": "621f9747-983c-44eb-9c41-e85135629b51",
   "metadata": {},
   "source": [
    "The minimal change of a route is a swap between two city routes (route[$(i-1)$%$N$],route[$i$]) and (route[$j$],route[$(j+1)$%$N$]), $i < j < N$, which trades the original city routes for (route[$(i-1)$%$N$],route[$j$]) and (route[$i$],route[$(j+1)$%$N$]), which is to reverse the city sequence from route[$i$] to route[$j$]. The swap makes sense only when the length of the reversed sequence is no longer than $N-2$, i.e. $j - i + 1 <= N - 2$ or $j - i < N - 2$. Now let's define the swap function with their input being a route and the swap indices $i$ and $j$ and their output being the swapped route or the warning information of illegal swap indices $i$ and $j$."
   ]
  },
  {
   "cell_type": "code",
   "execution_count": 5,
   "id": "351726f9-025f-48d2-b31b-52ec07849cc3",
   "metadata": {},
   "outputs": [],
   "source": [
    "def swap_route_segment(route, N, i, j):\n",
    "    # Check if the swap is within bounds and makes sense\n",
    "    if i < j and j - i + 1 <= N - 2:  # Condition for valid swap\n",
    "        # Perform the swap by reversing the sequence from route[i] to route[j]\n",
    "        route[i:j+1] = reversed(route[i:j+1])  # Swap the segment\n",
    "        return route  # Return the swapped route\n",
    "    else:\n",
    "        return f\"Warning: Illegal swap indices {i} and {j}. Swap not performed.\""
   ]
  },
  {
   "cell_type": "markdown",
   "id": "99bed0c9-74ff-47cc-8227-d34c364d62a6",
   "metadata": {},
   "source": [
    "Now we want a function that decides whether or not to swap. Define the energy $E$ as the length difference between the swapped and unswapped route, i.e. $E$ = distances[route[$(i-1)$%$N$]][route[$j$]] + distances[route[$i$]][route[$(j+1)$%$N$]] - distances[route[$(i-1)$%$N$]][route[$i$]] - distances[route[$j$]][route[$(j+1)$%$N$]]. If $E < 0$, we always want to do the swap, and the function should return True. If $E > 0$, we swap with a $e^{-E/T}$ probability, where $T$ is a temperature from the input. This function takes the distances matrix, the route, the city number, the swap indices $i$ and $j$, and the temperature $T$ as input, and returns True or False, i.e. whether or not to swap."
   ]
  },
  {
   "cell_type": "code",
   "execution_count": null,
   "id": "213c87f8-511c-4a85-880a-0074f36884f2",
   "metadata": {},
   "outputs": [],
   "source": [
    "def should_swap(distances, route, N, i, j, T):\n",
    "    # Calculate the energy difference between the swapped and unswapped route\n",
    "    E = distances[route[(i-1) % N][route[j]] + distances[route[i]][route[(j+1) % N]] - distances[route[(i-1) % N][route[i]] - distances[route[j]][route[(j+1) % N]]\n",
    "    \n",
    "    # If E is negative, always accept the swap\n",
    "    if E < 0:\n",
    "        return True\n",
    "    \n",
    "    # If E is positive, accept the swap with probability e^{-E/T}\n",
    "    if np.exp(- E / T) > np.random.rand():  # Using NumPy's random number generator for speed and efficiency\n",
    "        return True\n",
    "    else:\n",
    "        return False"
   ]
  },
  {
   "cell_type": "markdown",
   "id": "e20df6d0-86e3-4177-92a7-5418b2cfbece",
   "metadata": {},
   "source": [
    "Now we define a function that calculates the standard deviation of all the city routes and then triples it as the initial temperature. Use the distance matrix and city number as input, and return the initial temperature. Notice that the matrix diagonal is not wanted in the calculation of the standard deviation."
   ]
  },
  {
   "cell_type": "code",
   "execution_count": 1,
   "id": "8cb20b74-e87b-42ca-855c-9595bbd2f938",
   "metadata": {},
   "outputs": [],
   "source": [
    "def calculate_initial_temperature(distances, N):\n",
    "    # Calculate the mean value of squared distances\n",
    "    squared_distances = np.square(distances)\n",
    "    sum_squared_distances = np.sum(squared_distances)\n",
    "    mean_squared_distances = sum_squared_distances / (N * (N - 1))\n",
    "    \n",
    "    # Calculate the mean value of distances\n",
    "    sum_distances = np.sum(distances)\n",
    "    mean_distances = sum_distances / (N * (N - 1))\n",
    "    \n",
    "    # Calculate the standard deviation of all city routes\n",
    "    std_dev = np.sqrt(mean_squared_distances - mean_squared_distances ** 2)\n",
    "    \n",
    "    # Triple the standard deviation as the initial temperature\n",
    "    initial_temperature = 3 * std_dev\n",
    "    \n",
    "    return initial_temperature"
   ]
  },
  {
   "cell_type": "markdown",
   "id": "6d4caabf-b1d4-41bc-81f8-704e703057e0",
   "metadata": {},
   "source": [
    "With $N$ being the number of cities, there are also $N$ city routes in any given route, and therefore $N (N - 1) / 2$ possible ways of swap. For the cooling-down strategy, we reduce the temperature by $0.1 *$ initial_temperature every $N (N - 1) / 2$ steps, which are taken as a measure of the time elapsed. Here comes the temperature function that takes initial_temperature, current step number, and city number, and returns the current temperature."
   ]
  },
  {
   "cell_type": "code",
   "execution_count": null,
   "id": "8f99f10d-273e-4557-a39c-c5e48a224ad2",
   "metadata": {},
   "outputs": [],
   "source": [
    "def current_temperature(initial_temperature, step, N):\n",
    "    # Calculate the number of possible swaps (N*(N-1)/2)\n",
    "    num_swaps = N * (N - 1) // 2  # Using integer division\n",
    "    \n",
    "    # Determine the current step's temperature decrement\n",
    "    temperature_decrement = 0.1 * initial_temperature  # Decrease by 10% of initial temperature\n",
    "    \n",
    "    # Calculate the current temperature based on the step number and decrement\n",
    "    current_temperature = initial_temperature - (step // num_swaps) * temperature_decrement\n",
    "    \n",
    "    # Ensure the temperature doesn't fall below a minimum threshold (e.g., a small positive value)\n",
    "    current_temperature = max(current_temperature, temperature_decrement)  # Adjust this minimum threshold as needed\n",
    "    \n",
    "    return current_temperature"
   ]
  },
  {
   "cell_type": "markdown",
   "id": "6e2b723e-d335-4122-87ab-cd0b9b343fb6",
   "metadata": {},
   "source": [
    "Here is a function that calculates the route length given the distances matrix and the route."
   ]
  },
  {
   "cell_type": "code",
   "execution_count": null,
   "id": "3ed42581-645c-4e29-9290-190f11a7411e",
   "metadata": {},
   "outputs": [],
   "source": [
    "def calculate_route_length(distances, route, N):\n",
    "    route_length = 0  # Initialize the length of the route to zero\n",
    "    for i in range(N):\n",
    "        # Calculate the distance between the current city and the next one in the route\n",
    "        city_i = route[i]\n",
    "        city_j = route[(i + 1) % N]  # Use modulo to loop back to the start if necessary\n",
    "        route_length += distances[city_i][city_j]  # Add the distance to the total route length\n",
    "    return route_length"
   ]
  },
  {
   "cell_type": "markdown",
   "id": "a6733955-8770-4673-9df9-6ab13f6dd7b8",
   "metadata": {},
   "source": [
    "Now comes the function that searches for the shortest route. Given the distances matrix, city number, initial temperature, current route, current step number, and current rotation index, the search function goes through every possible swap $i,j$, checks by should_swap(), and records the step number. If False, do nothing except add 1 to the step number; if True, do the swap $i,j$, rotate the route to the left by $i$ to make city route[$i$] the first element in the route, add to the rotation index by $i$, add 1 to the step and then return with the swapped route, current step number, updated rotation index and a True. If all possible swaps are checked with none triggered, return with the current route, step number, rotation index, and a False."
   ]
  },
  {
   "cell_type": "code",
   "execution_count": null,
   "id": "e125f939-8588-4401-bd8d-ad9e570983a4",
   "metadata": {},
   "outputs": [],
   "source": [
    "def search_for_shortest_route(distances, N, initial_temperature, route, step, rotation_index):\n",
    "    found = False # Flag to indicate if any swaps were made during this iteration\n",
    "    # Check all possible swaps\n",
    "    for i in range(N):\n",
    "        for j in range(i + 1, N):  # Only check swaps with a different city index to avoid duplicates\n",
    "            T = current_temperature(initial_temperature, step, N) # Calculate the temperature\n",
    "            if should_swap(distances, route, N, i, j, T):  # Call your custom function to determine if a swap should be made\n",
    "                route = swap_route_segment(route, N, i, j) # Make the swap\n",
    "                route = route[i:] + route[:i] # Do the rotation\n",
    "                rotation_index = rotation_index + i # Record the rotation index\n",
    "                step = step + 1 # Record the step\n",
    "                found = True # Found one\n",
    "                return route, step, rotation_index, found\n",
    "            else:\n",
    "                step = step + 1 # Record the step\n",
    "    return route, step, rotation_index, found"
   ]
  }
 ],
 "metadata": {
  "kernelspec": {
   "display_name": "Python 3 (ipykernel)",
   "language": "python",
   "name": "python3"
  },
  "language_info": {
   "codemirror_mode": {
    "name": "ipython",
    "version": 3
   },
   "file_extension": ".py",
   "mimetype": "text/x-python",
   "name": "python",
   "nbconvert_exporter": "python",
   "pygments_lexer": "ipython3",
   "version": "3.12.4"
  }
 },
 "nbformat": 4,
 "nbformat_minor": 5
}
